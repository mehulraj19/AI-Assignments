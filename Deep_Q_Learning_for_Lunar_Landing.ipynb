{
  "cells": [
    {
      "cell_type": "markdown",
      "metadata": {
        "id": "view-in-github",
        "colab_type": "text"
      },
      "source": [
        "<a href=\"https://colab.research.google.com/github/mehulraj19/AI-Assignments/blob/main/Deep_Q_Learning_for_Lunar_Landing.ipynb\" target=\"_parent\"><img src=\"https://colab.research.google.com/assets/colab-badge.svg\" alt=\"Open In Colab\"/></a>"
      ]
    },
    {
      "cell_type": "markdown",
      "metadata": {
        "id": "LbZcI9ZXHl3a"
      },
      "source": [
        "# Deep Q-Learning for Lunar Landing"
      ]
    },
    {
      "cell_type": "markdown",
      "metadata": {
        "id": "E8yPRjteXgPb"
      },
      "source": [
        "## Part 0 - Installing the required packages and importing the libraries"
      ]
    },
    {
      "cell_type": "markdown",
      "metadata": {
        "id": "slEm5teGWjWU"
      },
      "source": [
        "### Installing Gymnasium"
      ]
    },
    {
      "cell_type": "code",
      "execution_count": 1,
      "metadata": {
        "id": "dbnq3XpoKa_7",
        "colab": {
          "base_uri": "https://localhost:8080/"
        },
        "outputId": "03839d00-81a2-497d-86f8-b06cde97f21e"
      },
      "outputs": [
        {
          "output_type": "stream",
          "name": "stdout",
          "text": [
            "Requirement already satisfied: gymnasium in /usr/local/lib/python3.12/dist-packages (1.2.0)\n",
            "Requirement already satisfied: numpy>=1.21.0 in /usr/local/lib/python3.12/dist-packages (from gymnasium) (2.0.2)\n",
            "Requirement already satisfied: cloudpickle>=1.2.0 in /usr/local/lib/python3.12/dist-packages (from gymnasium) (3.1.1)\n",
            "Requirement already satisfied: typing-extensions>=4.3.0 in /usr/local/lib/python3.12/dist-packages (from gymnasium) (4.15.0)\n",
            "Requirement already satisfied: farama-notifications>=0.0.1 in /usr/local/lib/python3.12/dist-packages (from gymnasium) (0.0.4)\n",
            "Requirement already satisfied: gymnasium[accept-rom-license,atari] in /usr/local/lib/python3.12/dist-packages (1.2.0)\n",
            "\u001b[33mWARNING: gymnasium 1.2.0 does not provide the extra 'accept-rom-license'\u001b[0m\u001b[33m\n",
            "\u001b[0mRequirement already satisfied: numpy>=1.21.0 in /usr/local/lib/python3.12/dist-packages (from gymnasium[accept-rom-license,atari]) (2.0.2)\n",
            "Requirement already satisfied: cloudpickle>=1.2.0 in /usr/local/lib/python3.12/dist-packages (from gymnasium[accept-rom-license,atari]) (3.1.1)\n",
            "Requirement already satisfied: typing-extensions>=4.3.0 in /usr/local/lib/python3.12/dist-packages (from gymnasium[accept-rom-license,atari]) (4.15.0)\n",
            "Requirement already satisfied: farama-notifications>=0.0.1 in /usr/local/lib/python3.12/dist-packages (from gymnasium[accept-rom-license,atari]) (0.0.4)\n",
            "Requirement already satisfied: ale_py>=0.9 in /usr/local/lib/python3.12/dist-packages (from gymnasium[accept-rom-license,atari]) (0.11.2)\n",
            "Reading package lists... Done\n",
            "Building dependency tree... Done\n",
            "Reading state information... Done\n",
            "swig is already the newest version (4.0.2-1ubuntu1).\n",
            "0 upgraded, 0 newly installed, 0 to remove and 35 not upgraded.\n",
            "Requirement already satisfied: gymnasium[box2d] in /usr/local/lib/python3.12/dist-packages (1.2.0)\n",
            "Requirement already satisfied: numpy>=1.21.0 in /usr/local/lib/python3.12/dist-packages (from gymnasium[box2d]) (2.0.2)\n",
            "Requirement already satisfied: cloudpickle>=1.2.0 in /usr/local/lib/python3.12/dist-packages (from gymnasium[box2d]) (3.1.1)\n",
            "Requirement already satisfied: typing-extensions>=4.3.0 in /usr/local/lib/python3.12/dist-packages (from gymnasium[box2d]) (4.15.0)\n",
            "Requirement already satisfied: farama-notifications>=0.0.1 in /usr/local/lib/python3.12/dist-packages (from gymnasium[box2d]) (0.0.4)\n",
            "Requirement already satisfied: box2d-py==2.3.5 in /usr/local/lib/python3.12/dist-packages (from gymnasium[box2d]) (2.3.5)\n",
            "Requirement already satisfied: pygame>=2.1.3 in /usr/local/lib/python3.12/dist-packages (from gymnasium[box2d]) (2.6.1)\n",
            "Requirement already satisfied: swig==4.* in /usr/local/lib/python3.12/dist-packages (from gymnasium[box2d]) (4.3.1.post0)\n"
          ]
        }
      ],
      "source": [
        "!pip install gymnasium\n",
        "!pip install \"gymnasium[atari, accept-rom-license]\"\n",
        "!apt-get install -y swig\n",
        "!pip install gymnasium[box2d]"
      ]
    },
    {
      "cell_type": "markdown",
      "metadata": {
        "id": "brqiMN3UW9T9"
      },
      "source": [
        "### Importing the libraries"
      ]
    },
    {
      "cell_type": "code",
      "execution_count": 2,
      "metadata": {
        "id": "mZaKXP_aMl9O"
      },
      "outputs": [],
      "source": [
        "import os\n",
        "import random\n",
        "import numpy as np\n",
        "## using pytorch to build AI\n",
        "import torch\n",
        "import torch.nn as nn\n",
        "import torch.optim as optim\n",
        "import torch.nn.functional as F\n",
        "import torch.autograd as autograd\n",
        "from torch.autograd import Variable\n",
        "from collections import deque, namedtuple"
      ]
    },
    {
      "cell_type": "markdown",
      "metadata": {
        "id": "EzlDKXvkXzGI"
      },
      "source": [
        "## Part 1 - Building the AI"
      ]
    },
    {
      "cell_type": "markdown",
      "metadata": {
        "id": "UtG6Zc83YYy3"
      },
      "source": [
        "### Creating the architecture of the Neural Network"
      ]
    },
    {
      "cell_type": "code",
      "source": [
        "class NeuralNetwork(nn.Module):\n",
        "  def __init__(self, state_size, action_size, seed = 42):\n",
        "    super(NeuralNetwork, self).__init__()\n",
        "    self.seed = torch.manual_seed(seed)\n",
        "    self.fc1 = nn.Linear(state_size, 64) # i/p layer to first fully connected layer\n",
        "    self.fc2 = nn.Linear(64, 64) # first fully connected layer to second connected layer\n",
        "    self.fc3 = nn.Linear(64, action_size) # second connected layer to o/p layer\n",
        "\n",
        "## forward method is the activation used to i/p layer to fully connected layer\n",
        "  def forward(self, state):\n",
        "    x = self.fc1(state)\n",
        "    x = F.relu(x)\n",
        "    x = self.fc2(x)\n",
        "    x = F.relu(x)\n",
        "    return self.fc3(x)"
      ],
      "metadata": {
        "id": "3HSHPSaM3Zw2"
      },
      "execution_count": 3,
      "outputs": []
    },
    {
      "cell_type": "markdown",
      "metadata": {
        "id": "UxVrBnFWZKb1"
      },
      "source": [
        "## Part 2 - Training the AI"
      ]
    },
    {
      "cell_type": "markdown",
      "metadata": {
        "id": "T364fz9qZb2j"
      },
      "source": [
        "### Setting up the environment"
      ]
    },
    {
      "cell_type": "code",
      "source": [
        "import gymnasium as gym\n",
        "env = gym.make('LunarLander-v3')\n",
        "state_shape = env.observation_space.shape\n",
        "state_size = env.observation_space.shape[0]\n",
        "number_actions = env.action_space.n\n",
        "print('State shape: ', state_shape)\n",
        "print('State size: ', state_size)\n",
        "print('Number of actions: ', number_actions)"
      ],
      "metadata": {
        "id": "41sgnpCwtd5f",
        "colab": {
          "base_uri": "https://localhost:8080/"
        },
        "outputId": "8b5ed512-68da-4312-b794-b90961c2b918"
      },
      "execution_count": 4,
      "outputs": [
        {
          "output_type": "stream",
          "name": "stdout",
          "text": [
            "State shape:  (8,)\n",
            "State size:  8\n",
            "Number of actions:  4\n"
          ]
        }
      ]
    },
    {
      "cell_type": "markdown",
      "metadata": {
        "id": "c_dZmOIvZgj-"
      },
      "source": [
        "### Initializing the hyperparameters"
      ]
    },
    {
      "cell_type": "code",
      "source": [
        "learning_rate = 5e-4\n",
        "minibatch_size = 100\n",
        "discount_factor = 0.99\n",
        "replay_buffer_size = int(1e5)\n",
        "interpolation_parameter = 1e-3"
      ],
      "metadata": {
        "id": "y-RSxEcn6hn4"
      },
      "execution_count": 5,
      "outputs": []
    },
    {
      "cell_type": "markdown",
      "metadata": {
        "id": "8hD_Vs-bYnip"
      },
      "source": [
        "### Implementing Experience Replay"
      ]
    },
    {
      "cell_type": "code",
      "source": [
        "class ReplayMemory(object):\n",
        "\n",
        "  def __init__(self, capacity):\n",
        "    self.device = torch.device(\"cuda:0\" if torch.cuda.is_available() else \"cpu\")\n",
        "    self.capacity = capacity\n",
        "    self.memory = []\n",
        "\n",
        "  def push(self, event):\n",
        "    self.memory.append(event)\n",
        "    if len(self.memory) > self.capacity:\n",
        "      del self.memory[0]\n",
        "\n",
        "  def sample(self, batch_size):\n",
        "    experiences = random.sample(self.memory, k = batch_size)\n",
        "    states = torch.from_numpy(np.vstack([e[0] for e in experiences if e is not None])).float().to(self.device)\n",
        "    actions = torch.from_numpy(np.vstack([e[1] for e in experiences if e is not None])).long().to(self.device)\n",
        "    rewards = torch.from_numpy(np.vstack([e[2] for e in experiences if e is not None])).float().to(self.device)\n",
        "    next_states = torch.from_numpy(np.vstack([e[3] for e in experiences if e is not None])).float().to(self.device)\n",
        "    dones = torch.from_numpy(np.vstack([e[4] for e in experiences if e is not None]).astype(np.uint8)).float().to(self.device)\n",
        "    return states, next_states, actions, rewards, dones"
      ],
      "metadata": {
        "id": "yVoJcRxb7QQ0"
      },
      "execution_count": 6,
      "outputs": []
    },
    {
      "cell_type": "markdown",
      "metadata": {
        "id": "JmEkbFbUY6Jt"
      },
      "source": [
        "### Implementing the DQN class"
      ]
    },
    {
      "cell_type": "code",
      "source": [
        "class Agent():\n",
        "\n",
        "  def __init__(self, state_size, action_size):\n",
        "    self.device = torch.device(\"cuda:0\" if torch.cuda.is_available() else \"cpu\")\n",
        "    self.state_size = state_size\n",
        "    self.action_size = action_size\n",
        "    self.local_qnetwork = NeuralNetwork(state_size, action_size).to(self.device)\n",
        "    self.target_qnetwork = NeuralNetwork(state_size, action_size).to(self.device)\n",
        "    self.optimizer = optim.Adam(self.local_qnetwork.parameters(), lr = learning_rate)\n",
        "    self.memory = ReplayMemory(replay_buffer_size)\n",
        "    self.t_step = 0\n",
        "\n",
        "  def step(self, state, action, reward, next_state, done):\n",
        "    self.memory.push((state, action, reward, next_state, done))\n",
        "    self.t_step = (self.t_step + 1) % 4\n",
        "    if self.t_step == 0:\n",
        "      if len(self.memory.memory) > minibatch_size:\n",
        "        experiences = self.memory.sample(100)\n",
        "        self.learn(experiences, discount_factor)\n",
        "\n",
        "  def act(self, state, epsilon = 0.):\n",
        "    state = torch.from_numpy(state).float().unsqueeze(0).to(self.device)\n",
        "    self.local_qnetwork.eval()\n",
        "    with torch.no_grad():\n",
        "      action_values = self.local_qnetwork(state)\n",
        "    self.local_qnetwork.train()\n",
        "    if random.random() > epsilon:\n",
        "      return np.argmax(action_values.cpu().data.numpy())\n",
        "    else:\n",
        "      return random.choice(np.arange(self.action_size))\n",
        "\n",
        "  def learn(self, experiences, discount_factor):\n",
        "    states, next_states, actions, rewards, dones = experiences\n",
        "    next_q_targets = self.target_qnetwork(next_states).detach().max(1)[0].unsqueeze(1)\n",
        "    q_targets = rewards + discount_factor * next_q_targets * (1 - dones)\n",
        "    q_expected = self.local_qnetwork(states).gather(1, actions)\n",
        "    loss = F.mse_loss(q_expected, q_targets)\n",
        "    self.optimizer.zero_grad()\n",
        "    loss.backward()\n",
        "    self.optimizer.step()\n",
        "    self.soft_update(self.local_qnetwork, self.target_qnetwork, interpolation_parameter)\n",
        "\n",
        "  def soft_update(self, local_model, target_model, interpolation_parameter):\n",
        "    for target_param, local_param in zip(target_model.parameters(), local_model.parameters()):\n",
        "      target_param.data.copy_(interpolation_parameter * local_param.data + (1.0 - interpolation_parameter) * target_param.data)"
      ],
      "metadata": {
        "id": "lMw7nrU89020"
      },
      "execution_count": 11,
      "outputs": []
    },
    {
      "cell_type": "markdown",
      "metadata": {
        "id": "o1tZElccZmf6"
      },
      "source": [
        "### Initializing the DQN agent"
      ]
    },
    {
      "cell_type": "code",
      "source": [
        "agent = Agent(state_size, number_actions)"
      ],
      "metadata": {
        "id": "Ss2LeKwLFN57"
      },
      "execution_count": 12,
      "outputs": []
    },
    {
      "cell_type": "markdown",
      "metadata": {
        "id": "E8v0PtUfaVQp"
      },
      "source": [
        "### Training the DQN agent"
      ]
    },
    {
      "cell_type": "code",
      "source": [
        "number_episodes = 2000\n",
        "max_number_tsteps_per_episode = 1000\n",
        "epsilon_starting_value = 1.0\n",
        "epsilon_ending_value = 0.01\n",
        "epsilon_decay_value = 0.995\n",
        "epsilon = epsilon_starting_value\n",
        "scores_on_100_episodes = deque(maxlen = 100)\n",
        "\n",
        "for episode in range(1, number_episodes + 1):\n",
        "  state, _ = env.reset()\n",
        "  score = 0\n",
        "  for t in range(max_number_tsteps_per_episode):\n",
        "    action = agent.act(state, epsilon)\n",
        "    next_state, reward, done, _, _ = env.step(action)\n",
        "    agent.step(state, action, reward, next_state, done)\n",
        "    state = next_state\n",
        "    score += reward\n",
        "    if done:\n",
        "      break\n",
        "  scores_on_100_episodes.append(score)\n",
        "  epsilon = max(epsilon_ending_value, epsilon_decay_value * epsilon)\n",
        "  print('\\rEpisode {}\\tAverage Score: {:.2f}'.format(episode, np.mean(scores_on_100_episodes)), end=\"\")\n",
        "  if episode % 100 == 0:\n",
        "    print('\\rEpisode {}\\tAverage Score: {:.2f}'.format(episode, np.mean(scores_on_100_episodes)))\n",
        "  if np.mean(scores_on_100_episodes) >= 200.0:\n",
        "    print('\\nEnvironment solved in {:d} episodees!\\tAverage Score: {:.2f}'.format(episode - 100, np.mean(scores_on_100_episodes)))\n",
        "    torch.save(agent.local_qnetwork.state_dict(), 'checkpoint.pth')\n",
        "    break"
      ],
      "metadata": {
        "colab": {
          "base_uri": "https://localhost:8080/"
        },
        "id": "BWDQT-IOGZrq",
        "outputId": "8158641e-f954-42bb-89bf-99a1e3f2ea19"
      },
      "execution_count": 13,
      "outputs": [
        {
          "output_type": "stream",
          "name": "stdout",
          "text": [
            "Episode 100\tAverage Score: -207.55\n",
            "Episode 200\tAverage Score: -95.47\n",
            "Episode 300\tAverage Score: 27.43\n",
            "Episode 400\tAverage Score: 56.63\n",
            "Episode 500\tAverage Score: 115.14\n",
            "Episode 600\tAverage Score: 122.90\n",
            "Episode 700\tAverage Score: 183.31\n",
            "Episode 758\tAverage Score: 200.49\n",
            "Environment solved in 658 episodees!\tAverage Score: 200.49\n"
          ]
        }
      ]
    },
    {
      "cell_type": "markdown",
      "metadata": {
        "id": "O8CNwdOTcCoP"
      },
      "source": [
        "## Part 3 - Visualizing the results"
      ]
    },
    {
      "cell_type": "code",
      "execution_count": 14,
      "metadata": {
        "id": "cb9nVvU2Okhk",
        "colab": {
          "base_uri": "https://localhost:8080/",
          "height": 459
        },
        "outputId": "5d82c54e-673d-455b-f707-850f72615ea3"
      },
      "outputs": [
        {
          "output_type": "stream",
          "name": "stderr",
          "text": [
            "WARNING:imageio_ffmpeg:IMAGEIO FFMPEG_WRITER WARNING: input image is not divisible by macro_block_size=16, resizing from (600, 400) to (608, 400) to ensure video compatibility with most codecs and players. To prevent resizing, make your input image divisible by the macro_block_size or set the macro_block_size to 1 (risking incompatibility).\n"
          ]
        },
        {
          "output_type": "display_data",
          "data": {
            "text/plain": [
              "<IPython.core.display.HTML object>"
            ],
            "text/html": [
              "<video alt=\"test\" autoplay\n",
              "                loop controls style=\"height: 400px;\">\n",
              "                <source src=\"data:video/mp4;base64,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\" type=\"video/mp4\" />\n",
              "             </video>"
            ]
          },
          "metadata": {}
        }
      ],
      "source": [
        "import glob\n",
        "import io\n",
        "import base64\n",
        "import imageio\n",
        "from IPython.display import HTML, display\n",
        "\n",
        "def show_video_of_model(agent, env_name):\n",
        "    env = gym.make(env_name, render_mode='rgb_array')\n",
        "    state, _ = env.reset()\n",
        "    done = False\n",
        "    frames = []\n",
        "    while not done:\n",
        "        frame = env.render()\n",
        "        frames.append(frame)\n",
        "        action = agent.act(state)\n",
        "        state, reward, done, _, _ = env.step(action.item())\n",
        "    env.close()\n",
        "    imageio.mimsave('video.mp4', frames, fps=30)\n",
        "\n",
        "show_video_of_model(agent, 'LunarLander-v3')\n",
        "\n",
        "def show_video():\n",
        "    mp4list = glob.glob('*.mp4')\n",
        "    if len(mp4list) > 0:\n",
        "        mp4 = mp4list[0]\n",
        "        video = io.open(mp4, 'r+b').read()\n",
        "        encoded = base64.b64encode(video)\n",
        "        display(HTML(data='''<video alt=\"test\" autoplay\n",
        "                loop controls style=\"height: 400px;\">\n",
        "                <source src=\"data:video/mp4;base64,{0}\" type=\"video/mp4\" />\n",
        "             </video>'''.format(encoded.decode('ascii'))))\n",
        "    else:\n",
        "        print(\"Could not find video\")\n",
        "\n",
        "show_video()"
      ]
    }
  ],
  "metadata": {
    "colab": {
      "provenance": [],
      "include_colab_link": true
    },
    "kernelspec": {
      "display_name": "Python 3",
      "name": "python3"
    },
    "language_info": {
      "name": "python"
    }
  },
  "nbformat": 4,
  "nbformat_minor": 0
}